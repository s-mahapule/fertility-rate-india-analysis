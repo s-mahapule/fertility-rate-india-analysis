{
 "cells": [
  {
   "cell_type": "code",
   "execution_count": 1,
   "id": "343801b1",
   "metadata": {},
   "outputs": [],
   "source": [
    "#importing required library\n",
    "import pandas as pd"
   ]
  },
  {
   "cell_type": "code",
   "execution_count": 5,
   "id": "7d7ea932",
   "metadata": {},
   "outputs": [],
   "source": [
    "df=pd.read_csv(r\"C:\\Users\\User1\\Downloads\\archive (3)\\Fertility_rate_india.csv\")"
   ]
  },
  {
   "cell_type": "code",
   "execution_count": 8,
   "id": "cfa72154",
   "metadata": {},
   "outputs": [
    {
     "data": {
      "text/html": [
       "<div>\n",
       "<style scoped>\n",
       "    .dataframe tbody tr th:only-of-type {\n",
       "        vertical-align: middle;\n",
       "    }\n",
       "\n",
       "    .dataframe tbody tr th {\n",
       "        vertical-align: top;\n",
       "    }\n",
       "\n",
       "    .dataframe thead th {\n",
       "        text-align: right;\n",
       "    }\n",
       "</style>\n",
       "<table border=\"1\" class=\"dataframe\">\n",
       "  <thead>\n",
       "    <tr style=\"text-align: right;\">\n",
       "      <th></th>\n",
       "      <th>State</th>\n",
       "      <th>Total</th>\n",
       "      <th>Urban</th>\n",
       "      <th>Rural</th>\n",
       "      <th>Population</th>\n",
       "    </tr>\n",
       "  </thead>\n",
       "  <tbody>\n",
       "    <tr>\n",
       "      <th>0</th>\n",
       "      <td>Andhra</td>\n",
       "      <td>1.7</td>\n",
       "      <td>1.5</td>\n",
       "      <td>1.8</td>\n",
       "      <td>52375124</td>\n",
       "    </tr>\n",
       "    <tr>\n",
       "      <th>1</th>\n",
       "      <td>Andman &amp; Nicobar</td>\n",
       "      <td>1.3</td>\n",
       "      <td>1.4</td>\n",
       "      <td>1.2</td>\n",
       "      <td>414057</td>\n",
       "    </tr>\n",
       "    <tr>\n",
       "      <th>2</th>\n",
       "      <td>Arunachal Pradesh</td>\n",
       "      <td>1.8</td>\n",
       "      <td>1.4</td>\n",
       "      <td>1.9</td>\n",
       "      <td>1506749</td>\n",
       "    </tr>\n",
       "    <tr>\n",
       "      <th>3</th>\n",
       "      <td>Assam</td>\n",
       "      <td>1.9</td>\n",
       "      <td>1.5</td>\n",
       "      <td>1.9</td>\n",
       "      <td>34068394</td>\n",
       "    </tr>\n",
       "    <tr>\n",
       "      <th>4</th>\n",
       "      <td>Bihar</td>\n",
       "      <td>3.0</td>\n",
       "      <td>2.4</td>\n",
       "      <td>3.1</td>\n",
       "      <td>117153097</td>\n",
       "    </tr>\n",
       "    <tr>\n",
       "      <th>5</th>\n",
       "      <td>Chandigarh</td>\n",
       "      <td>1.4</td>\n",
       "      <td>1.4</td>\n",
       "      <td>1.4</td>\n",
       "      <td>1110820</td>\n",
       "    </tr>\n",
       "    <tr>\n",
       "      <th>6</th>\n",
       "      <td>Chhattisgarh</td>\n",
       "      <td>1.8</td>\n",
       "      <td>1.4</td>\n",
       "      <td>1.9</td>\n",
       "      <td>28125421</td>\n",
       "    </tr>\n",
       "    <tr>\n",
       "      <th>7</th>\n",
       "      <td>D&amp;D</td>\n",
       "      <td>1.8</td>\n",
       "      <td>1.7</td>\n",
       "      <td>1.9</td>\n",
       "      <td>216981</td>\n",
       "    </tr>\n",
       "    <tr>\n",
       "      <th>8</th>\n",
       "      <td>Delhi (NCT)</td>\n",
       "      <td>1.6</td>\n",
       "      <td>1.6</td>\n",
       "      <td>2.5</td>\n",
       "      <td>18110349</td>\n",
       "    </tr>\n",
       "    <tr>\n",
       "      <th>9</th>\n",
       "      <td>Goa</td>\n",
       "      <td>1.3</td>\n",
       "      <td>1.3</td>\n",
       "      <td>1.4</td>\n",
       "      <td>1521000</td>\n",
       "    </tr>\n",
       "    <tr>\n",
       "      <th>10</th>\n",
       "      <td>Gujarat</td>\n",
       "      <td>1.9</td>\n",
       "      <td>1.7</td>\n",
       "      <td>2.0</td>\n",
       "      <td>63000000</td>\n",
       "    </tr>\n",
       "    <tr>\n",
       "      <th>11</th>\n",
       "      <td>Haryana</td>\n",
       "      <td>1.9</td>\n",
       "      <td>1.7</td>\n",
       "      <td>2.0</td>\n",
       "      <td>27443256</td>\n",
       "    </tr>\n",
       "    <tr>\n",
       "      <th>12</th>\n",
       "      <td>HP</td>\n",
       "      <td>1.7</td>\n",
       "      <td>1.4</td>\n",
       "      <td>1.7</td>\n",
       "      <td>7246418</td>\n",
       "    </tr>\n",
       "    <tr>\n",
       "      <th>13</th>\n",
       "      <td>J&amp;K</td>\n",
       "      <td>1.4</td>\n",
       "      <td>1.2</td>\n",
       "      <td>1.5</td>\n",
       "      <td>13477325</td>\n",
       "    </tr>\n",
       "    <tr>\n",
       "      <th>14</th>\n",
       "      <td>Jharkhand</td>\n",
       "      <td>2.3</td>\n",
       "      <td>1.6</td>\n",
       "      <td>2.5</td>\n",
       "      <td>36672687</td>\n",
       "    </tr>\n",
       "    <tr>\n",
       "      <th>15</th>\n",
       "      <td>Karnataka</td>\n",
       "      <td>1.7</td>\n",
       "      <td>1.5</td>\n",
       "      <td>1.8</td>\n",
       "      <td>65426566</td>\n",
       "    </tr>\n",
       "    <tr>\n",
       "      <th>16</th>\n",
       "      <td>Kerala</td>\n",
       "      <td>1.8</td>\n",
       "      <td>1.8</td>\n",
       "      <td>1.8</td>\n",
       "      <td>35043531</td>\n",
       "    </tr>\n",
       "    <tr>\n",
       "      <th>17</th>\n",
       "      <td>Lakshadweep</td>\n",
       "      <td>1.4</td>\n",
       "      <td>1.4</td>\n",
       "      <td>1.6</td>\n",
       "      <td>70214</td>\n",
       "    </tr>\n",
       "    <tr>\n",
       "      <th>18</th>\n",
       "      <td>Madhya Pradesh</td>\n",
       "      <td>2.0</td>\n",
       "      <td>1.6</td>\n",
       "      <td>2.1</td>\n",
       "      <td>80894777</td>\n",
       "    </tr>\n",
       "    <tr>\n",
       "      <th>19</th>\n",
       "      <td>Maharashtra</td>\n",
       "      <td>1.7</td>\n",
       "      <td>1.5</td>\n",
       "      <td>1.9</td>\n",
       "      <td>119581739</td>\n",
       "    </tr>\n",
       "    <tr>\n",
       "      <th>20</th>\n",
       "      <td>Manipur</td>\n",
       "      <td>2.2</td>\n",
       "      <td>1.8</td>\n",
       "      <td>2.4</td>\n",
       "      <td>2966130</td>\n",
       "    </tr>\n",
       "    <tr>\n",
       "      <th>21</th>\n",
       "      <td>Meghalaya</td>\n",
       "      <td>2.9</td>\n",
       "      <td>1.6</td>\n",
       "      <td>3.3</td>\n",
       "      <td>3230132</td>\n",
       "    </tr>\n",
       "    <tr>\n",
       "      <th>22</th>\n",
       "      <td>Mizoram</td>\n",
       "      <td>1.9</td>\n",
       "      <td>1.6</td>\n",
       "      <td>2.2</td>\n",
       "      <td>1188971</td>\n",
       "    </tr>\n",
       "    <tr>\n",
       "      <th>23</th>\n",
       "      <td>Nagaland</td>\n",
       "      <td>1.7</td>\n",
       "      <td>1.2</td>\n",
       "      <td>2.0</td>\n",
       "      <td>2158431</td>\n",
       "    </tr>\n",
       "    <tr>\n",
       "      <th>24</th>\n",
       "      <td>Odisha</td>\n",
       "      <td>1.8</td>\n",
       "      <td>1.5</td>\n",
       "      <td>1.9</td>\n",
       "      <td>44912901</td>\n",
       "    </tr>\n",
       "    <tr>\n",
       "      <th>25</th>\n",
       "      <td>Puducherry</td>\n",
       "      <td>1.5</td>\n",
       "      <td>1.6</td>\n",
       "      <td>1.2</td>\n",
       "      <td>1356199</td>\n",
       "    </tr>\n",
       "    <tr>\n",
       "      <th>26</th>\n",
       "      <td>Punjab</td>\n",
       "      <td>1.6</td>\n",
       "      <td>1.6</td>\n",
       "      <td>1.7</td>\n",
       "      <td>29344896</td>\n",
       "    </tr>\n",
       "    <tr>\n",
       "      <th>27</th>\n",
       "      <td>Rajasthan</td>\n",
       "      <td>2.0</td>\n",
       "      <td>1.7</td>\n",
       "      <td>2.1</td>\n",
       "      <td>76802294</td>\n",
       "    </tr>\n",
       "    <tr>\n",
       "      <th>28</th>\n",
       "      <td>Sikkim</td>\n",
       "      <td>1.1</td>\n",
       "      <td>0.7</td>\n",
       "      <td>1.3</td>\n",
       "      <td>662250</td>\n",
       "    </tr>\n",
       "    <tr>\n",
       "      <th>29</th>\n",
       "      <td>Tamil Nadu</td>\n",
       "      <td>1.8</td>\n",
       "      <td>1.6</td>\n",
       "      <td>1.9</td>\n",
       "      <td>75844451</td>\n",
       "    </tr>\n",
       "    <tr>\n",
       "      <th>30</th>\n",
       "      <td>Telangana</td>\n",
       "      <td>1.8</td>\n",
       "      <td>1.8</td>\n",
       "      <td>1.7</td>\n",
       "      <td>38042884</td>\n",
       "    </tr>\n",
       "    <tr>\n",
       "      <th>31</th>\n",
       "      <td>Tripura</td>\n",
       "      <td>1.7</td>\n",
       "      <td>1.4</td>\n",
       "      <td>1.8</td>\n",
       "      <td>4000638</td>\n",
       "    </tr>\n",
       "    <tr>\n",
       "      <th>32</th>\n",
       "      <td>Uttar Pradesh</td>\n",
       "      <td>2.4</td>\n",
       "      <td>1.9</td>\n",
       "      <td>2.5</td>\n",
       "      <td>224558257</td>\n",
       "    </tr>\n",
       "    <tr>\n",
       "      <th>33</th>\n",
       "      <td>Uttarakhand</td>\n",
       "      <td>1.9</td>\n",
       "      <td>1.8</td>\n",
       "      <td>1.9</td>\n",
       "      <td>10956753</td>\n",
       "    </tr>\n",
       "    <tr>\n",
       "      <th>34</th>\n",
       "      <td>West Bengal</td>\n",
       "      <td>1.6</td>\n",
       "      <td>1.4</td>\n",
       "      <td>1.7</td>\n",
       "      <td>96775592</td>\n",
       "    </tr>\n",
       "  </tbody>\n",
       "</table>\n",
       "</div>"
      ],
      "text/plain": [
       "                State  Total  Urban  Rural  Population\n",
       "0              Andhra    1.7    1.5    1.8    52375124\n",
       "1    Andman & Nicobar    1.3    1.4    1.2      414057\n",
       "2   Arunachal Pradesh    1.8    1.4    1.9     1506749\n",
       "3               Assam    1.9    1.5    1.9    34068394\n",
       "4               Bihar    3.0    2.4    3.1   117153097\n",
       "5          Chandigarh    1.4    1.4    1.4     1110820\n",
       "6        Chhattisgarh    1.8    1.4    1.9    28125421\n",
       "7                 D&D    1.8    1.7    1.9      216981\n",
       "8         Delhi (NCT)    1.6    1.6    2.5    18110349\n",
       "9                 Goa    1.3    1.3    1.4     1521000\n",
       "10            Gujarat    1.9    1.7    2.0    63000000\n",
       "11            Haryana    1.9    1.7    2.0    27443256\n",
       "12                 HP    1.7    1.4    1.7     7246418\n",
       "13                J&K    1.4    1.2    1.5    13477325\n",
       "14          Jharkhand    2.3    1.6    2.5    36672687\n",
       "15          Karnataka    1.7    1.5    1.8    65426566\n",
       "16             Kerala    1.8    1.8    1.8    35043531\n",
       "17        Lakshadweep    1.4    1.4    1.6       70214\n",
       "18     Madhya Pradesh    2.0    1.6    2.1    80894777\n",
       "19        Maharashtra    1.7    1.5    1.9   119581739\n",
       "20            Manipur    2.2    1.8    2.4     2966130\n",
       "21          Meghalaya    2.9    1.6    3.3     3230132\n",
       "22            Mizoram    1.9    1.6    2.2     1188971\n",
       "23           Nagaland    1.7    1.2    2.0     2158431\n",
       "24             Odisha    1.8    1.5    1.9    44912901\n",
       "25         Puducherry    1.5    1.6    1.2     1356199\n",
       "26             Punjab    1.6    1.6    1.7    29344896\n",
       "27          Rajasthan    2.0    1.7    2.1    76802294\n",
       "28             Sikkim    1.1    0.7    1.3      662250\n",
       "29         Tamil Nadu    1.8    1.6    1.9    75844451\n",
       "30          Telangana    1.8    1.8    1.7    38042884\n",
       "31            Tripura    1.7    1.4    1.8     4000638\n",
       "32      Uttar Pradesh    2.4    1.9    2.5   224558257\n",
       "33        Uttarakhand    1.9    1.8    1.9    10956753\n",
       "34        West Bengal    1.6    1.4    1.7    96775592"
      ]
     },
     "execution_count": 8,
     "metadata": {},
     "output_type": "execute_result"
    }
   ],
   "source": [
    "df"
   ]
  },
  {
   "cell_type": "code",
   "execution_count": 7,
   "id": "1230ca1e",
   "metadata": {},
   "outputs": [],
   "source": []
  },
  {
   "cell_type": "markdown",
   "id": "b73b8990",
   "metadata": {},
   "source": [
    "# from here the code is solved by problem statements "
   ]
  },
  {
   "cell_type": "markdown",
   "id": "c08ba8b5",
   "metadata": {},
   "source": [
    "# 1. How do fertility rates vary across Indian states, and what regional patterns can be observed?\n"
   ]
  },
  {
   "cell_type": "code",
   "execution_count": 21,
   "id": "6c853689",
   "metadata": {},
   "outputs": [
    {
     "data": {
      "text/html": [
       "<div>\n",
       "<style scoped>\n",
       "    .dataframe tbody tr th:only-of-type {\n",
       "        vertical-align: middle;\n",
       "    }\n",
       "\n",
       "    .dataframe tbody tr th {\n",
       "        vertical-align: top;\n",
       "    }\n",
       "\n",
       "    .dataframe thead th {\n",
       "        text-align: right;\n",
       "    }\n",
       "</style>\n",
       "<table border=\"1\" class=\"dataframe\">\n",
       "  <thead>\n",
       "    <tr style=\"text-align: right;\">\n",
       "      <th></th>\n",
       "      <th>State</th>\n",
       "      <th>Total</th>\n",
       "      <th>Urban</th>\n",
       "      <th>Rural</th>\n",
       "      <th>Population</th>\n",
       "    </tr>\n",
       "  </thead>\n",
       "  <tbody>\n",
       "    <tr>\n",
       "      <th>28</th>\n",
       "      <td>Sikkim</td>\n",
       "      <td>1.1</td>\n",
       "      <td>0.7</td>\n",
       "      <td>1.3</td>\n",
       "      <td>662250</td>\n",
       "    </tr>\n",
       "    <tr>\n",
       "      <th>1</th>\n",
       "      <td>Andman &amp; Nicobar</td>\n",
       "      <td>1.3</td>\n",
       "      <td>1.4</td>\n",
       "      <td>1.2</td>\n",
       "      <td>414057</td>\n",
       "    </tr>\n",
       "    <tr>\n",
       "      <th>9</th>\n",
       "      <td>Goa</td>\n",
       "      <td>1.3</td>\n",
       "      <td>1.3</td>\n",
       "      <td>1.4</td>\n",
       "      <td>1521000</td>\n",
       "    </tr>\n",
       "    <tr>\n",
       "      <th>17</th>\n",
       "      <td>Lakshadweep</td>\n",
       "      <td>1.4</td>\n",
       "      <td>1.4</td>\n",
       "      <td>1.6</td>\n",
       "      <td>70214</td>\n",
       "    </tr>\n",
       "    <tr>\n",
       "      <th>5</th>\n",
       "      <td>Chandigarh</td>\n",
       "      <td>1.4</td>\n",
       "      <td>1.4</td>\n",
       "      <td>1.4</td>\n",
       "      <td>1110820</td>\n",
       "    </tr>\n",
       "  </tbody>\n",
       "</table>\n",
       "</div>"
      ],
      "text/plain": [
       "               State  Total  Urban  Rural  Population\n",
       "28            Sikkim    1.1    0.7    1.3      662250\n",
       "1   Andman & Nicobar    1.3    1.4    1.2      414057\n",
       "9                Goa    1.3    1.3    1.4     1521000\n",
       "17       Lakshadweep    1.4    1.4    1.6       70214\n",
       "5         Chandigarh    1.4    1.4    1.4     1110820"
      ]
     },
     "execution_count": 21,
     "metadata": {},
     "output_type": "execute_result"
    }
   ],
   "source": [
    "#lowest fertility rate\n",
    "sorted = df.sort_values(by='Total')\n",
    "lfr =sorted.head(5)"
   ]
  },
  {
   "cell_type": "code",
   "execution_count": 26,
   "id": "3882c650",
   "metadata": {},
   "outputs": [
    {
     "data": {
      "text/html": [
       "<div>\n",
       "<style scoped>\n",
       "    .dataframe tbody tr th:only-of-type {\n",
       "        vertical-align: middle;\n",
       "    }\n",
       "\n",
       "    .dataframe tbody tr th {\n",
       "        vertical-align: top;\n",
       "    }\n",
       "\n",
       "    .dataframe thead th {\n",
       "        text-align: right;\n",
       "    }\n",
       "</style>\n",
       "<table border=\"1\" class=\"dataframe\">\n",
       "  <thead>\n",
       "    <tr style=\"text-align: right;\">\n",
       "      <th></th>\n",
       "      <th>State</th>\n",
       "      <th>Total</th>\n",
       "      <th>Urban</th>\n",
       "      <th>Rural</th>\n",
       "      <th>Population</th>\n",
       "    </tr>\n",
       "  </thead>\n",
       "  <tbody>\n",
       "    <tr>\n",
       "      <th>4</th>\n",
       "      <td>Bihar</td>\n",
       "      <td>3.0</td>\n",
       "      <td>2.4</td>\n",
       "      <td>3.1</td>\n",
       "      <td>117153097</td>\n",
       "    </tr>\n",
       "    <tr>\n",
       "      <th>21</th>\n",
       "      <td>Meghalaya</td>\n",
       "      <td>2.9</td>\n",
       "      <td>1.6</td>\n",
       "      <td>3.3</td>\n",
       "      <td>3230132</td>\n",
       "    </tr>\n",
       "    <tr>\n",
       "      <th>32</th>\n",
       "      <td>Uttar Pradesh</td>\n",
       "      <td>2.4</td>\n",
       "      <td>1.9</td>\n",
       "      <td>2.5</td>\n",
       "      <td>224558257</td>\n",
       "    </tr>\n",
       "    <tr>\n",
       "      <th>14</th>\n",
       "      <td>Jharkhand</td>\n",
       "      <td>2.3</td>\n",
       "      <td>1.6</td>\n",
       "      <td>2.5</td>\n",
       "      <td>36672687</td>\n",
       "    </tr>\n",
       "    <tr>\n",
       "      <th>20</th>\n",
       "      <td>Manipur</td>\n",
       "      <td>2.2</td>\n",
       "      <td>1.8</td>\n",
       "      <td>2.4</td>\n",
       "      <td>2966130</td>\n",
       "    </tr>\n",
       "  </tbody>\n",
       "</table>\n",
       "</div>"
      ],
      "text/plain": [
       "            State  Total  Urban  Rural  Population\n",
       "4           Bihar    3.0    2.4    3.1   117153097\n",
       "21      Meghalaya    2.9    1.6    3.3     3230132\n",
       "32  Uttar Pradesh    2.4    1.9    2.5   224558257\n",
       "14      Jharkhand    2.3    1.6    2.5    36672687\n",
       "20        Manipur    2.2    1.8    2.4     2966130"
      ]
     },
     "execution_count": 26,
     "metadata": {},
     "output_type": "execute_result"
    }
   ],
   "source": [
    "#highest fertility rate\n",
    "sorted = df.sort_values(by='Total', ascending= False)\n",
    "hfr = sorted.head(5)"
   ]
  },
  {
   "cell_type": "markdown",
   "id": "5cff09df",
   "metadata": {},
   "source": [
    "# 2. What is the difference in fertility rates between urban and rural areas in each state?"
   ]
  },
  {
   "cell_type": "code",
   "execution_count": null,
   "id": "47871147",
   "metadata": {},
   "outputs": [],
   "source": [
    "# Which states have the largest urban-rural fertility gap\n"
   ]
  },
  {
   "cell_type": "code",
   "execution_count": 42,
   "id": "9149a467",
   "metadata": {},
   "outputs": [],
   "source": [
    "GAP =abs(df['Urban']- df['Rural'])\n",
    "df['UR_GAP'] = GAP"
   ]
  },
  {
   "cell_type": "code",
   "execution_count": 43,
   "id": "29499672",
   "metadata": {},
   "outputs": [],
   "source": [
    "UR_GAP = df.sort_values(by ='UR_GAP' , ascending = False).head(10)"
   ]
  },
  {
   "cell_type": "code",
   "execution_count": 84,
   "id": "c7d9b217",
   "metadata": {},
   "outputs": [
    {
     "name": "stdout",
     "output_type": "stream",
     "text": [
      "             State  Population  Total  UR_GAP\n",
      "21       Meghalaya     3230132    2.9     1.7\n",
      "14       Jharkhand    36672687    2.3     0.9\n",
      "8      Delhi (NCT)    18110349    1.6     0.9\n",
      "23        Nagaland     2158431    1.7     0.8\n",
      "4            Bihar   117153097    3.0     0.7\n",
      "28          Sikkim      662250    1.1     0.6\n",
      "32   Uttar Pradesh   224558257    2.4     0.6\n",
      "22         Mizoram     1188971    1.9     0.6\n",
      "20         Manipur     2966130    2.2     0.6\n",
      "18  Madhya Pradesh    80894777    2.0     0.5\n"
     ]
    }
   ],
   "source": [
    "\n",
    "print(UR_GAP[['State', 'Population', 'Total', 'UR_GAP']])"
   ]
  },
  {
   "cell_type": "code",
   "execution_count": null,
   "id": "7ad4aa79",
   "metadata": {},
   "outputs": [],
   "source": [
    "# DO high population shows low/high fertility rate"
   ]
  },
  {
   "cell_type": "code",
   "execution_count": null,
   "id": "881c8f8e",
   "metadata": {},
   "outputs": [],
   "source": []
  },
  {
   "cell_type": "code",
   "execution_count": 60,
   "id": "cd9705ad",
   "metadata": {},
   "outputs": [
    {
     "data": {
      "image/png": "[encoded data removed]",
      "text/plain": [
       "<Figure size 640x480 with 1 Axes>"
      ]
     },
     "metadata": {},
     "output_type": "display_data"
    }
   ],
   "source": [
    "import seaborn as sns\n",
    "import matplotlib.pyplot as plt\n",
    "\n",
    "sns.scatterplot(data=df, x='Population', y='Total')\n",
    "plt.title('Do High Population States Have High Fertility Rates?')\n",
    "plt.xlabel('Population')\n",
    "plt.ylabel('Total Fertility Rate')\n",
    "plt.show()\n"
   ]
  },
  {
   "cell_type": "markdown",
   "id": "d30b5a8a",
   "metadata": {},
   "source": [
    "# 3. Which states are at risk of overpopulation or underpopulation based on fertility and population data?"
   ]
  },
  {
   "cell_type": "code",
   "execution_count": null,
   "id": "97512d2f",
   "metadata": {},
   "outputs": [],
   "source": [
    "def classify_risk:\n",
    "    if row['Total']"
   ]
  },
  {
   "cell_type": "code",
   "execution_count": 69,
   "id": "8c64a0f2",
   "metadata": {},
   "outputs": [],
   "source": [
    "def classify_risk(row):\n",
    "    # Set population threshold (e.g. 5 crore = 50 million)\n",
    "    high_pop = row['Population'] > 50_000_000  \n",
    "    \n",
    "    if row['Total'] > 2.1 and high_pop:\n",
    "        return '🚨 High Risk: Overpopulated'\n",
    "    elif row['Total'] > 2.1 and not high_pop:\n",
    "        return '⚠️ Growing Population'\n",
    "    elif row['Total'] < 2.1 and high_pop:\n",
    "        return '⚠️ Aging/Declining (Large State)'\n",
    "    elif row['Total'] < 2.1 and not high_pop:\n",
    "        return '🟡 Underpopulation Risk'\n",
    "    else:\n",
    "        return 'Stable'\n",
    "\n"
   ]
  },
  {
   "cell_type": "code",
   "execution_count": null,
   "id": "4bc56456",
   "metadata": {},
   "outputs": [],
   "source": []
  },
  {
   "cell_type": "code",
   "execution_count": 70,
   "id": "e76b5949",
   "metadata": {},
   "outputs": [],
   "source": [
    "df['Population Risk'] = df.apply(classify_risk, axis=1)\n"
   ]
  },
  {
   "cell_type": "code",
   "execution_count": 74,
   "id": "b885e369",
   "metadata": {},
   "outputs": [
    {
     "name": "stdout",
     "output_type": "stream",
     "text": [
      "            State   Population  Total             Population Risk\n",
      "4           Bihar  117153097.0    3.0  🚨 High Risk: Overpopulated\n",
      "32  Uttar Pradesh  224558257.0    2.4  🚨 High Risk: Overpopulated\n"
     ]
    }
   ],
   "source": [
    "# high population\n",
    "\n",
    "high_risk_df = df[df['Population Risk'] == '🚨 High Risk: Overpopulated']\n",
    "print(high_risk_df[['State', 'Population', 'Total', 'Population Risk']])\n"
   ]
  },
  {
   "cell_type": "code",
   "execution_count": 75,
   "id": "453c1099",
   "metadata": {},
   "outputs": [
    {
     "name": "stdout",
     "output_type": "stream",
     "text": [
      "                State  Population  Total         Population Risk\n",
      "1    Andman & Nicobar    414057.0    1.3  🟡 Underpopulation Risk\n",
      "2   Arunachal Pradesh   1506749.0    1.8  🟡 Underpopulation Risk\n",
      "3               Assam  34068394.0    1.9  🟡 Underpopulation Risk\n",
      "5          Chandigarh   1110820.0    1.4  🟡 Underpopulation Risk\n",
      "6        Chhattisgarh  28125421.0    1.8  🟡 Underpopulation Risk\n",
      "7                 D&D    216981.0    1.8  🟡 Underpopulation Risk\n",
      "8         Delhi (NCT)  18110349.0    1.6  🟡 Underpopulation Risk\n",
      "9                 Goa   1521000.0    1.3  🟡 Underpopulation Risk\n",
      "11            Haryana  27443256.0    1.9  🟡 Underpopulation Risk\n",
      "12                 HP   7246418.0    1.7  🟡 Underpopulation Risk\n",
      "13                J&K  13477325.0    1.4  🟡 Underpopulation Risk\n",
      "16             Kerala  35043531.0    1.8  🟡 Underpopulation Risk\n",
      "17        Lakshadweep     70214.0    1.4  🟡 Underpopulation Risk\n",
      "22            Mizoram   1188971.0    1.9  🟡 Underpopulation Risk\n",
      "23           Nagaland   2158431.0    1.7  🟡 Underpopulation Risk\n",
      "24             Odisha  44912901.0    1.8  🟡 Underpopulation Risk\n",
      "25         Puducherry   1356199.0    1.5  🟡 Underpopulation Risk\n",
      "26             Punjab  29344896.0    1.6  🟡 Underpopulation Risk\n",
      "28             Sikkim    662250.0    1.1  🟡 Underpopulation Risk\n",
      "30          Telangana  38042884.0    1.8  🟡 Underpopulation Risk\n",
      "31            Tripura   4000638.0    1.7  🟡 Underpopulation Risk\n",
      "33        Uttarakhand  10956753.0    1.9  🟡 Underpopulation Risk\n"
     ]
    }
   ],
   "source": [
    "#underpopulation\n",
    "\n",
    "underpopulation_df = df[df['Population Risk'] == '🟡 Underpopulation Risk']\n",
    "print(underpopulation_df[['State', 'Population', 'Total', 'Population Risk']])\n"
   ]
  },
  {
   "cell_type": "markdown",
   "id": "527f3f61",
   "metadata": {},
   "source": [
    "# 4. Which states contribute the most to the national fertility rate average?\n"
   ]
  },
  {
   "cell_type": "code",
   "execution_count": 76,
   "id": "c93200b9",
   "metadata": {},
   "outputs": [],
   "source": [
    "# weighted total fertility rate is used to calculate national fertility\n",
    "\n",
    "df['Weighted_TFR'] = df['Population'] * df['Total']\n"
   ]
  },
  {
   "cell_type": "code",
   "execution_count": 77,
   "id": "8ce2218a",
   "metadata": {},
   "outputs": [
    {
     "name": "stdout",
     "output_type": "stream",
     "text": [
      "National Weighted Fertility Rate: 2.0142232921184844\n"
     ]
    }
   ],
   "source": [
    "national_avg = df['Weighted_TFR'].sum() / df['Population'].sum()\n",
    "print(\"National Weighted Fertility Rate:\", national_avg)\n"
   ]
  },
  {
   "cell_type": "code",
   "execution_count": 78,
   "id": "581fa9e3",
   "metadata": {},
   "outputs": [
    {
     "name": "stdout",
     "output_type": "stream",
     "text": [
      "             State   Population  Total  Weighted_TFR\n",
      "32   Uttar Pradesh  224558257.0    2.4   538939816.8\n",
      "4            Bihar  117153097.0    3.0   351459291.0\n",
      "19     Maharashtra  119581739.0    1.7   203288956.3\n",
      "18  Madhya Pradesh   80894777.0    2.0   161789554.0\n",
      "34     West Bengal   96775592.0    1.6   154840947.2\n",
      "27       Rajasthan   76802294.0    2.0   153604588.0\n",
      "29      Tamil Nadu   75844451.0    1.8   136520011.8\n",
      "10         Gujarat   63000000.0    1.9   119700000.0\n",
      "15       Karnataka   65426566.0    1.7   111225162.2\n",
      "0           Andhra   52375124.0    1.7    89037710.8\n"
     ]
    }
   ],
   "source": [
    "# states which have highest contributed in fertility rate \n",
    "\n",
    "top_contributors = df.sort_values(by='Weighted_TFR', ascending=False)\n",
    "print(top_contributors[['State', 'Population', 'Total', 'Weighted_TFR']].head(10))\n"
   ]
  },
  {
   "cell_type": "markdown",
   "id": "bb211bf0",
   "metadata": {},
   "source": [
    "# 5. How does the level of urbanization in a state affect fertility rates?"
   ]
  },
  {
   "cell_type": "code",
   "execution_count": 79,
   "id": "6681b0a9",
   "metadata": {},
   "outputs": [],
   "source": [
    "df['Urbanization %'] = (df['Urban'] / df['Population']) * 100"
   ]
  },
  {
   "cell_type": "code",
   "execution_count": 80,
   "id": "965d9f34",
   "metadata": {},
   "outputs": [
    {
     "data": {
      "image/png": "[encoded data removed]",
      "text/plain": [
       "<Figure size 640x480 with 1 Axes>"
      ]
     },
     "metadata": {},
     "output_type": "display_data"
    }
   ],
   "source": [
    "import seaborn as sns\n",
    "import matplotlib.pyplot as plt\n",
    "\n",
    "sns.scatterplot(data=df, x='Urbanization %', y='Total')\n",
    "plt.title('Urbanization vs Fertility Rate')\n",
    "plt.xlabel('Urbanization %')\n",
    "plt.ylabel('Total Fertility Rate')\n",
    "plt.show()\n"
   ]
  },
  {
   "cell_type": "code",
   "execution_count": null,
   "id": "39842d2c",
   "metadata": {
    "scrolled": true
   },
   "outputs": [],
   "source": [
    "# finding correlation between urbanization and fertility rate"
   ]
  },
  {
   "cell_type": "code",
   "execution_count": 82,
   "id": "85671667",
   "metadata": {},
   "outputs": [
    {
     "name": "stdout",
     "output_type": "stream",
     "text": [
      "Correlation between Urbanization and Fertility Rate: -0.23484523446141004\n"
     ]
    }
   ],
   "source": [
    "correlation = df['Urbanization %'].corr(df['Total'])\n",
    "print(\"Correlation between Urbanization and Fertility Rate:\", correlation)\n"
   ]
  },
  {
   "cell_type": "code",
   "execution_count": 85,
   "id": "9ec8b917",
   "metadata": {},
   "outputs": [],
   "source": []
  },
  {
   "cell_type": "code",
   "execution_count": null,
   "id": "440f3e6a",
   "metadata": {},
   "outputs": [],
   "source": []
  }
 ],
 "metadata": {
  "kernelspec": {
   "display_name": "Python 3 (ipykernel)",
   "language": "python",
   "name": "python3"
  },
  "language_info": {
   "codemirror_mode": {
    "name": "ipython",
    "version": 3
   },
   "file_extension": ".py",
   "mimetype": "text/x-python",
   "name": "python",
   "nbconvert_exporter": "python",
   "pygments_lexer": "ipython3",
   "version": "3.10.9"
  }
 },
 "nbformat": 4,
 "nbformat_minor": 5
}
